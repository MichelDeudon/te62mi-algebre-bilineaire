{
 "cells": [
  {
   "cell_type": "markdown",
   "id": "678df900",
   "metadata": {},
   "source": [
    "# TE62MI - Algebre linéaire et réduction de dimension"
   ]
  },
  {
   "cell_type": "markdown",
   "id": "c203280e",
   "metadata": {},
   "source": [
    "## TP3. Mise en échelle multidimensionnelle (MDS)"
   ]
  },
  {
   "cell_type": "markdown",
   "id": "5af7603d",
   "metadata": {},
   "source": [
    "### Description\n",
    "L'objectif de ce TP est d'étudier la mise en échelle multidimensionelle (MDS) comme méthode de réduction de dimensionnalité, sur des données réelles."
   ]
  },
  {
   "cell_type": "markdown",
   "id": "bfe24224",
   "metadata": {},
   "source": [
    "\n",
    "### MDS (mise à l'échelle multidimensionnelle)\n",
    "\n",
    "À partir des informations contenues dans une matrice de distance, le but\n",
    "de MDS consiste à placer chaque point dans un espace à k dimensions de sorte que les distances entre points soient préservées au mieux.\n",
    "Le pseudo code est de l'algorithme MDS est donné ci-dessous pour une matrice carrée $nxn$ de distances $D$.\n",
    "\n",
    "1. Calculer la matrice $J = I_N - N^{-1}11^T$ (où $I_N$ la matrice identité $nxn$ et $11^T$ est la matrice $NxN$ avec des uns à chaque cellule)\n",
    "2. Calculer la matrice $B = \\frac{1}{2}JDJ$\n",
    "3. Calculer la décomposition SVD de la matrice $B$ : $B = U\\Sigma V^T$, et extraire les k plus grandes valeurs singulieres\n",
    "$\\Sigma_k = diag(\\sigma_1; \\sigma_2... \\sigma_k)$ et les vecteurs singuliers correspondants $U_k$\n",
    "4. Une représentation spatiale $k$-dimensionnelle des N objets est obtenue par : $X_k = U_k \\Sigma_k^{\\frac{1}{2}}$.\n",
    "\n",
    "MDS minimise le stress donné par \n",
    "\n",
    "\\begin{equation}\n",
    "    Stress = \\sqrt{ \\frac{\\sum_{ij} (d_{ij} - \\delta_{ij} )^2 }{ \\sum_{ij} \\delta_{ij}^2 }}\n",
    "\\end{equation}\n",
    "\n",
    "où $d_{ij}$ la distance entre les points $i$ et $j$ après la transformation et $\\delta_{ij}$ leur distance dans l'espace d'origine."
   ]
  },
  {
   "cell_type": "markdown",
   "id": "049cbbeb",
   "metadata": {},
   "source": [
    "### Tâches à effectuer dans ce TP\n",
    "\n",
    "\n",
    "Ici, MDA sera appliqué pour représenter la position de 10 villes américaines dans\n",
    "un espace à 2 dimensions, en utilisant la matrice de distance 10 x 10 $D$. \n",
    "Compléter les champs de code manquant, entre `### TODO ###` et `### ENDO ###`, afin de\n",
    "mettre en œuvre la technique MDS.\n",
    "- Compléter la fonction `my_MDS` afin d'appliquer l'algoirthme sur une matrice de distance $D$ et représenter des données dans un espace de dimension $k$ défini par les k premières composantes principales.  (`section 2`)\n",
    "- Tester votre implémentation. Inspecter la distribution des valeurs singulières de $X$. (`section 3`) \n",
    "- Visualiser les données en 2D. Qu'observez-vous ? La position des villes préserve-t-elle les distances ? (`section 4`) \n",
    "- Calculer le stress de l'approximation/reconstruction? (`section 4`)\n",
    "- Tester avec un autre dataset de votre choix (`section 1`)"
   ]
  },
  {
   "cell_type": "markdown",
   "id": "0cb1a087",
   "metadata": {},
   "source": [
    "## 1. Load the cities' distances dataset"
   ]
  },
  {
   "cell_type": "code",
   "execution_count": null,
   "id": "2ba327d6",
   "metadata": {},
   "outputs": [],
   "source": [
    "import numpy as np\n",
    "\n",
    "# Load the distance matrix\n",
    "D = np.loadtxt('data/distanceMatrix.csv', delimiter=',')\n",
    "cities = ['Atlanta','Chicago','Denver','Houston','LA','Miami','NYC','SF','Seattle','Washington DC']\n",
    "n = D.shape[0] # Get the size of the matrix\n",
    "print(D.shape)"
   ]
  },
  {
   "cell_type": "markdown",
   "id": "d9bd32dc",
   "metadata": {},
   "source": [
    "## 2. Implement MDS"
   ]
  },
  {
   "cell_type": "code",
   "execution_count": null,
   "id": "b31a547b",
   "metadata": {},
   "outputs": [],
   "source": [
    "def my_MDS(D, k=2):\n",
    "    ''' MDS algorithm. Applies MDS on D.\n",
    "    Returns:\n",
    "        X: nd.array (n,k), low dimension representation\n",
    "        L: nd.array (n,) singular values\n",
    "    '''\n",
    "    \n",
    "    # Calculer J\n",
    "    \n",
    "    ### TODO ###\n",
    "    #\n",
    "    ### ENDO ###\n",
    "    \n",
    "    # Calculer B\n",
    "    \n",
    "    ### TODO ###\n",
    "    #\n",
    "    ### ENDO ###\n",
    "    \n",
    "    ### Apply SVD to B ###\n",
    "    \n",
    "    ### TODO ###\n",
    "    #\n",
    "    ### ENDO ###\n",
    "    \n",
    "    # Calculate new representation\n",
    "    \n",
    "    ### TODO ###\n",
    "    #\n",
    "    ### ENDO ###\n",
    "    return X, L"
   ]
  },
  {
   "cell_type": "code",
   "execution_count": null,
   "id": "f487eb61",
   "metadata": {},
   "outputs": [],
   "source": [
    "k = 2 # we want to keep 2 dimensions\n",
    "X, L = my_MDS(D, k=k)"
   ]
  },
  {
   "cell_type": "markdown",
   "id": "e6b64bda",
   "metadata": {},
   "source": [
    "## 3. Test your implementation"
   ]
  },
  {
   "cell_type": "code",
   "execution_count": null,
   "id": "8dcfe14f",
   "metadata": {},
   "outputs": [],
   "source": [
    "assert X.shape == (n, k)"
   ]
  },
  {
   "cell_type": "code",
   "execution_count": null,
   "id": "2edc9b01",
   "metadata": {},
   "outputs": [],
   "source": [
    "# Inspecter la distribution des valeurs singulières\n",
    "\n",
    "### TODO ###\n",
    "#\n",
    "### ENDO ###"
   ]
  },
  {
   "cell_type": "markdown",
   "id": "ee82da0a",
   "metadata": {},
   "source": [
    "## 4. Visualize results"
   ]
  },
  {
   "cell_type": "code",
   "execution_count": null,
   "id": "61efa39f",
   "metadata": {},
   "outputs": [],
   "source": [
    "import matplotlib.pyplot as plt\n",
    "\n",
    "# Visualiser les données en 2D\n",
    "\n",
    "### TODO ###\n",
    "# Qu'observez-vous ?\n",
    "# La position des villes préserve-t-elle les distances ? \n",
    "### ENDO ###\n",
    "\n",
    "# Plot distances in two dimensions\n",
    "plt.figure(1, figsize=(10,5))\n",
    "\n",
    "# Plot cities in 2D space\n",
    "plt.plot(-X[:,0],-X[:,1],'o')\n",
    "for i in range(len(cities)):\n",
    "     plt.text(-X[i,0], -X[i,1]+30, cities[i], color='k', ha='center', va='center')\n",
    "plt.title(\"CARTE 2D DES ETATS UNIS\")\n",
    "plt.axis('off')\n",
    "plt.show()"
   ]
  },
  {
   "cell_type": "code",
   "execution_count": null,
   "id": "74936632",
   "metadata": {},
   "outputs": [],
   "source": [
    "# Calculer le stress de l'approximation/reconstruction\n",
    "\n",
    "### TODO ###\n",
    "#\n",
    "### ENDO ###"
   ]
  }
 ],
 "metadata": {
  "kernelspec": {
   "display_name": "Python 3 (ipykernel)",
   "language": "python",
   "name": "python3"
  },
  "language_info": {
   "codemirror_mode": {
    "name": "ipython",
    "version": 3
   },
   "file_extension": ".py",
   "mimetype": "text/x-python",
   "name": "python",
   "nbconvert_exporter": "python",
   "pygments_lexer": "ipython3",
   "version": "3.8.13"
  }
 },
 "nbformat": 4,
 "nbformat_minor": 5
}
