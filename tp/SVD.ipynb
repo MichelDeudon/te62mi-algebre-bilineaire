{
 "cells": [
  {
   "cell_type": "markdown",
   "id": "678df900",
   "metadata": {},
   "source": [
    "# TE62MI - Algebre linéaire et réduction de dimension"
   ]
  },
  {
   "cell_type": "markdown",
   "id": "c203280e",
   "metadata": {},
   "source": [
    "## TP 1. Décomposition en Valeurs Singulières (SVD)"
   ]
  },
  {
   "cell_type": "markdown",
   "id": "e0099a01",
   "metadata": {},
   "source": [
    "### Description\n",
    "L'objectif de ce TP est d'étudier la Décomposition en Valeurs Singulières (SVD) comme méthode de réduction de dimensionnalité, sur des données réelles."
   ]
  },
  {
   "cell_type": "markdown",
   "id": "16a19d4f",
   "metadata": {},
   "source": [
    "### Rappels de cours\n",
    "\n",
    "Soit $X \\in \\mathbb{R}^{nd}$. La Décomposition en Valeurs Singulières (SVD) de X s'écrit $X = U \\Sigma V^T$, où\n",
    "- $U \\in \\mathbb{R}^{nn}$ a pour colonnes les vecteurs propres de $XX^T$ et vérifie $UU^T=I_n$\n",
    "- $\\Sigma \\in \\mathbb{R}^{nd}$ est une matrice diagonale avec les valeurs singulières de $X$ dans la diagonale (= racines carrées des valeurs propres de $XX^T$)\n",
    "- $V \\in \\mathbb{R}^{dd}$ a pour colonnes les vecteurs propres de $X^TX$ et vérifie $VV^T=I_d$\n",
    "\n",
    "SVD permet une représentation exacte de n'importe quelle matrice, et donne la meilleure approximation (*) de rang $k \\leq min(n,d)$ de $X$:\n",
    "\n",
    "\\begin{equation}\n",
    "    Y = U_{nk}\\Sigma_{kk} V_{kd}^T \\approx X\n",
    "\\end{equation}\n",
    "\n",
    "(*) au sens où l'approximation $Y$ de rang $k$ minimise la norme de Frobenius $||X-Y||_F$\n",
    "où $||X||_F = \\sqrt{\\sum_{i=1}^n \\sum_{j=1}^d x_{ij}^2 } = \\sqrt{\\sum_{i=1}^{min(n,d)} \\sigma_i^2}$\n",
    "\n",
    "En pratique, le but n'est pas de reconstruire réellement la matrice d'origine, mais d'utiliser la matrice de rang inférieur $U_{nk}\\Sigma_{kk} V^T_{kd}$ afin d'analyser les données."
   ]
  },
  {
   "cell_type": "markdown",
   "id": "3a4f9b79",
   "metadata": {},
   "source": [
    "### Tâches à effectuer dans ce TP\n",
    "\n",
    "Compléter les champs de code manquant, entre `### TODO ###` et `### ENDO ###`\n",
    "- Appliquer la décomposition SVD sur $X$ (`section 2`)\n",
    "- Reconstruire $X$ en utilisant les $k$ plus grandes valeurs singulières (`section 3`) \n",
    "- Quelle est l'erreur de chaque approximation/reconstruction? (`section 4`)\n",
    "- Comparer ces approximations de l'image originale. Qu'observez-vous ? (`section 5`)\n",
    "- Inspecter la distribution des valeurs singulières de $X$. (`section 5`)\n",
    "- Tester SVD avec une autre image / url de votre choix (`section 1`)"
   ]
  },
  {
   "cell_type": "markdown",
   "id": "0cb1a087",
   "metadata": {},
   "source": [
    "## 1. Load an image X as an $nd$ data matrix"
   ]
  },
  {
   "cell_type": "code",
   "execution_count": null,
   "id": "28867420",
   "metadata": {},
   "outputs": [],
   "source": [
    "#!pip install scikit-image"
   ]
  },
  {
   "cell_type": "code",
   "execution_count": null,
   "id": "6afd5bea",
   "metadata": {},
   "outputs": [],
   "source": [
    "# Load an image as an nxd matrix\n",
    "\n",
    "from skimage.io import imread\n",
    "#url = \"https://upload.wikimedia.org/wikipedia/commons/thumb/f/fa/Paul_Val%C3%A9ry_-_photo_Henri_Manuel.jpg/1200px-Paul_Val%C3%A9ry_-_photo_Henri_Manuel.jpg\"\n",
    "url = \"https://upload.wikimedia.org/wikipedia/commons/thumb/7/79/Nina_Simone_1965.jpg/640px-Nina_Simone_1965.jpg\"\n",
    "X = imread(url)\n",
    "\n",
    "# Convert RGB image to a gray / black & white image (n x d matrix)\n",
    "if len(X.shape) == 3:\n",
    "    X = X[:,:,0]"
   ]
  },
  {
   "cell_type": "code",
   "execution_count": null,
   "id": "e717bb7c",
   "metadata": {},
   "outputs": [],
   "source": [
    "# Print X shape (n,d)\n",
    "X.shape"
   ]
  },
  {
   "cell_type": "code",
   "execution_count": null,
   "id": "45a92a66",
   "metadata": {},
   "outputs": [],
   "source": [
    "# Plot the original image\n",
    "import matplotlib.pyplot as plt\n",
    "plt.figure(1)\n",
    "plt.imshow(X,cmap = \"gray\")\n",
    "plt.title('Original image (rank {})'.format(min(X.shape)))\n",
    "plt.axis('off')\n",
    "plt.draw()"
   ]
  },
  {
   "cell_type": "markdown",
   "id": "d9bd32dc",
   "metadata": {},
   "source": [
    "## 2. Implement SVD"
   ]
  },
  {
   "cell_type": "code",
   "execution_count": null,
   "id": "4e6cf820",
   "metadata": {},
   "outputs": [],
   "source": [
    "# Perform SVD decomposition on X\n",
    "import numpy as np\n",
    "\n",
    "### TODO ###\n",
    "#\n",
    "### ENDO ###"
   ]
  },
  {
   "cell_type": "code",
   "execution_count": null,
   "id": "608af045",
   "metadata": {},
   "outputs": [],
   "source": [
    "assert U.shape == (X.shape[0], X.shape[0])\n",
    "assert S.shape == (min(X.shape[0],X.shape[1]),)\n",
    "assert V.shape == (X.shape[1], X.shape[1])"
   ]
  },
  {
   "cell_type": "markdown",
   "id": "ba0f4c0c",
   "metadata": {},
   "source": [
    "## 3. Low rank approximation matrix"
   ]
  },
  {
   "cell_type": "code",
   "execution_count": null,
   "id": "f80c214d",
   "metadata": {},
   "outputs": [],
   "source": [
    "# Reconstruct X (approximation) using the top k = [10, 20, 50, 100, 200] singular values\n",
    "\n",
    "### TODO ###\n",
    "#\n",
    "#\n",
    "#\n",
    "#\n",
    "#\n",
    "### ENDO ###"
   ]
  },
  {
   "cell_type": "code",
   "execution_count": null,
   "id": "2e87d30b",
   "metadata": {},
   "outputs": [],
   "source": [
    "assert X10.shape == (X.shape[0], X.shape[1])\n",
    "assert X20.shape == (X.shape[0], X.shape[1])"
   ]
  },
  {
   "cell_type": "markdown",
   "id": "e6b64bda",
   "metadata": {},
   "source": [
    "## 4. Test your implementation"
   ]
  },
  {
   "cell_type": "code",
   "execution_count": null,
   "id": "6bd2f632",
   "metadata": {},
   "outputs": [],
   "source": [
    "# Print error of approximation\n",
    "\n",
    "### TODO ###\n",
    "#\n",
    "#\n",
    "#\n",
    "#\n",
    "#\n",
    "### ENDO ###"
   ]
  },
  {
   "cell_type": "markdown",
   "id": "ee82da0a",
   "metadata": {},
   "source": [
    "## 5. Analyse results"
   ]
  },
  {
   "cell_type": "code",
   "execution_count": null,
   "id": "be6559d9",
   "metadata": {},
   "outputs": [],
   "source": [
    "# Plot the optimal rank-k approximation for various values of k\n",
    "\n",
    "# Create a figure with 6 subfigures\n",
    "plt.figure(2, figsize=(15,10))\n",
    "\n",
    "# Rank 10 approximation\n",
    "plt.subplot(231)\n",
    "plt.imshow(X10,cmap = \"gray\")\n",
    "plt.title('Best rank' + str(10) + ' approximation')\n",
    "plt.axis('off')\n",
    "\n",
    "# Rank 20 approximation\n",
    "plt.subplot(232)\n",
    "plt.imshow(X20,cmap = \"gray\")\n",
    "plt.title('Best rank' + str(20) + ' approximation')\n",
    "plt.axis('off')\n",
    "\n",
    "# Rank 50 approximation\n",
    "plt.subplot(233)\n",
    "plt.imshow(X50,cmap = \"gray\")\n",
    "plt.title('Best rank' + str(50) + ' approximation')\n",
    "plt.axis('off')\n",
    "\n",
    "# Rank 100 approximation\n",
    "plt.subplot(234)\n",
    "plt.imshow(X100,cmap = \"gray\")\n",
    "plt.title('Best rank' + str(100) + ' approximation')\n",
    "plt.axis('off')\n",
    "\n",
    "# Rank 200 approximation\n",
    "plt.subplot(235)\n",
    "plt.imshow(X200,cmap = \"gray\")\n",
    "plt.title('Best rank' + str(200) + ' approximation')\n",
    "plt.axis('off')\n",
    "\n",
    "# Original\n",
    "plt.subplot(236)\n",
    "plt.imshow(X,cmap = \"gray\")\n",
    "plt.title('Original image (Rank 480)')\n",
    "plt.axis('off')\n",
    "\n",
    "plt.draw()"
   ]
  },
  {
   "cell_type": "code",
   "execution_count": null,
   "id": "e7362dd7",
   "metadata": {},
   "outputs": [],
   "source": [
    "# Plot the singular values of X versus their rank k\n",
    "plt.figure(3) \n",
    "\n",
    "### TODO ###\n",
    "#\n",
    "### ENDO ###\n",
    "\n",
    "plt.xlabel('k'), \n",
    "plt.ylabel(r'$\\sigma_k$')\n",
    "plt.title('Singular values of the image matrix')\n",
    "plt.draw()\n",
    "\n",
    "plt.show() "
   ]
  },
  {
   "cell_type": "code",
   "execution_count": null,
   "id": "523d0f67",
   "metadata": {},
   "outputs": [],
   "source": []
  },
  {
   "cell_type": "code",
   "execution_count": null,
   "id": "fade2cb7",
   "metadata": {},
   "outputs": [],
   "source": []
  }
 ],
 "metadata": {
  "kernelspec": {
   "display_name": "Python 3 (ipykernel)",
   "language": "python",
   "name": "python3"
  },
  "language_info": {
   "codemirror_mode": {
    "name": "ipython",
    "version": 3
   },
   "file_extension": ".py",
   "mimetype": "text/x-python",
   "name": "python",
   "nbconvert_exporter": "python",
   "pygments_lexer": "ipython3",
   "version": "3.8.13"
  }
 },
 "nbformat": 4,
 "nbformat_minor": 5
}
